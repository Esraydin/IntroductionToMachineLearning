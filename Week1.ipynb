{
 "cells": [
  {
   "cell_type": "code",
   "execution_count": 1,
   "metadata": {},
   "outputs": [
    {
     "name": "stdout",
     "output_type": "stream",
     "text": [
      "20\n"
     ]
    }
   ],
   "source": [
    "sayi = 10 #değişken tanımlama (integer)\n",
    "deger = \"10\" # string diğer dillerdeki gibi değişken türü yazmamıza gerek yok\n",
    "\n",
    "print(sayi + 10)\n",
    "#print(deger + 10) #calısmaz cünkü deger string bir değişkendir"
   ]
  },
  {
   "cell_type": "code",
   "execution_count": 2,
   "metadata": {},
   "outputs": [
    {
     "name": "stdout",
     "output_type": "stream",
     "text": [
      "101010101020.0\n"
     ]
    }
   ],
   "source": [
    "tc = \"101010101010\"\n",
    "isim = \"Esra\"\n",
    "\n",
    "print(float(tc)+10) # tc değerini floata çevir"
   ]
  },
  {
   "cell_type": "code",
   "execution_count": 14,
   "metadata": {},
   "outputs": [
    {
     "name": "stdout",
     "output_type": "stream",
     "text": [
      "Cansu\n",
      "['Esra', 'Cansu', 'Beyza']\n"
     ]
    }
   ],
   "source": [
    "#List\n",
    "ogrenciler = [\"Esra\",\"Cansu\",\"Beyza\"]\n",
    "print(ogrenciler[1]) #1.indexteki öğrenciyi gösterir\n",
    "print(ogrenciler) #Listeyi verir."
   ]
  },
  {
   "cell_type": "code",
   "execution_count": 15,
   "metadata": {},
   "outputs": [
    {
     "name": "stdout",
     "output_type": "stream",
     "text": [
      "['Veli', 'Cansu', 'Beyza', 'Ahmet']\n"
     ]
    }
   ],
   "source": [
    "#yeni eleman ekleme\n",
    "ogrenciler.append(\"Ahmet\") \n",
    "ogrenciler[0] = \"Veli\" #eleman güncelleme\n",
    "#ogrenciler.remove(\"Esra\") \n",
    "print(ogrenciler)"
   ]
  },
  {
   "cell_type": "code",
   "execution_count": 6,
   "metadata": {},
   "outputs": [
    {
     "name": "stdout",
     "output_type": "stream",
     "text": [
      "['Ankara', 'İstanbul', 'Ankara']\n",
      "3\n"
     ]
    }
   ],
   "source": [
    "sehirler = list((\"Ankara\",\"İstanbul\",\"Ankara\"))\n",
    "print(sehirler)\n",
    "print(len(sehirler))"
   ]
  },
  {
   "cell_type": "code",
   "execution_count": 7,
   "metadata": {},
   "outputs": [
    {
     "name": "stdout",
     "output_type": "stream",
     "text": [
      "2\n",
      "Ankara sayısı =2\n",
      "Ankara indexi = 0\n"
     ]
    }
   ],
   "source": [
    "#LİSTE FONKSİYONLARI\n",
    "#print(sehirler.clear()) tüm elemanları siler\n",
    "print(sehirler.count(\"Ankara\")) #ankaraların sayısı.\n",
    "print(\"Ankara sayısı =\" + str(sehirler.count(\"Ankara\"))) #str yaptık cünkü ankara sayısı ifade string\n",
    "print(\"Ankara indexi = \" + str(sehirler.index(\"Ankara\")))#ankara'nın bulundugu index.\n",
    "sehirler.pop(1) #1 numaralı indextekideğeri çıkar.\n",
    "sehirler.insert(0,\"İstanbul\")#0.indexe istanbul'u ekler \n",
    "sehirler.reverse() #terse çevirme"
   ]
  },
  {
   "cell_type": "code",
   "execution_count": 8,
   "metadata": {},
   "outputs": [
    {
     "name": "stdout",
     "output_type": "stream",
     "text": [
      "['Ankara', 'Ankara', 'İstanbul']\n",
      "['İzmir', 'Ankara', 'İstanbul']\n",
      "['Ankara', 'Ankara', 'İstanbul']\n",
      "['İzmir', 'İstanbul', 'İstanbul', 'Ankara', 'Ankara', 'Ankara']\n"
     ]
    }
   ],
   "source": [
    "sehirler3 = sehirler.copy()\n",
    "\n",
    "print(sehirler)\n",
    "sehirler2 = sehirler #bunlar aynı yere shaip.biri değişirse diğeri de değişir.bellekte aynı yerdedirler.\n",
    "sehirler2[0] = \"İzmir\"\n",
    "print(sehirler2)\n",
    "print(sehirler3) #arraylar referans tipidir.\n",
    "\n",
    "sehirler.extend(sehirler3)  #bu iki arrayi yan yana getirir.\n",
    "sehirler.sort() #listeleme\n",
    "sehirler.reverse() #tersten listeler.sort'dan sonra kullanılır.\n",
    "print(sehirler)"
   ]
  },
  {
   "cell_type": "code",
   "execution_count": 9,
   "metadata": {},
   "outputs": [
    {
     "name": "stdout",
     "output_type": "stream",
     "text": [
      "{'name': 'Esra', 'age': 23, 'city': 'Bursa'}\n",
      "<class 'dict'>\n",
      "Esra\n",
      "Esra\n",
      "{'name': 'Esra', 'age': 23, 'city': 'Bursa', 'email': ' Test'}\n",
      "{'name': 'Esra', 'age': 23, 'city': 'Bursa'}\n",
      "{'name': 'Elif', 'age': 23, 'city': 'Bursa'}\n"
     ]
    },
    {
     "data": {
      "text/plain": [
       "dict_keys(['name', 'age', 'city'])"
      ]
     },
     "execution_count": 9,
     "metadata": {},
     "output_type": "execute_result"
    }
   ],
   "source": [
    "#dictionary\n",
    "\n",
    "dictionary = {\"name\":\"Esra\", \"age\":23, \"city\":\"Bursa\"}\n",
    "print(dictionary)\n",
    "print(type(dictionary))\n",
    "print(dictionary[\"name\"])\n",
    "print(dictionary.get(\"name\"))\n",
    "dictionary[\"email\"]=\" Test\"\n",
    "print(dictionary)\n",
    "dictionary.pop(\"email\")\n",
    "print(dictionary)\n",
    "dictionary[\"name\"]=\"Elif\"\n",
    "print(dictionary)\n",
    "dictionary.keys()"
   ]
  },
  {
   "cell_type": "code",
   "execution_count": 10,
   "metadata": {},
   "outputs": [
    {
     "data": {
      "text/plain": [
       "dict"
      ]
     },
     "execution_count": 10,
     "metadata": {},
     "output_type": "execute_result"
    }
   ],
   "source": [
    "type(dictionary)"
   ]
  },
  {
   "cell_type": "code",
   "execution_count": 11,
   "metadata": {},
   "outputs": [
    {
     "data": {
      "text/plain": [
       "dict_keys(['name', 'age', 'city'])"
      ]
     },
     "execution_count": 11,
     "metadata": {},
     "output_type": "execute_result"
    }
   ],
   "source": [
    "dictionary.keys()"
   ]
  },
  {
   "cell_type": "code",
   "execution_count": 12,
   "metadata": {},
   "outputs": [
    {
     "data": {
      "text/plain": [
       "dict_values(['Elif', 23, 'Bursa'])"
      ]
     },
     "execution_count": 12,
     "metadata": {},
     "output_type": "execute_result"
    }
   ],
   "source": [
    "dictionary.values()"
   ]
  },
  {
   "cell_type": "code",
   "execution_count": 13,
   "metadata": {},
   "outputs": [
    {
     "name": "stdout",
     "output_type": "stream",
     "text": [
      "no\n"
     ]
    }
   ],
   "source": [
    "keys = dictionary.keys()\n",
    "\n",
    "if \"Esra\" in keys:\n",
    "    print(\"yes\")\n",
    "else:\n",
    "    print(\"no\")"
   ]
  },
  {
   "cell_type": "code",
   "execution_count": null,
   "metadata": {},
   "outputs": [],
   "source": []
  }
 ],
 "metadata": {
  "kernelspec": {
   "display_name": "Python 3",
   "language": "python",
   "name": "python3"
  },
  "language_info": {
   "codemirror_mode": {
    "name": "ipython",
    "version": 3
   },
   "file_extension": ".py",
   "mimetype": "text/x-python",
   "name": "python",
   "nbconvert_exporter": "python",
   "pygments_lexer": "ipython3",
   "version": "3.8.3"
  }
 },
 "nbformat": 4,
 "nbformat_minor": 4
}
